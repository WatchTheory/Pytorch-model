{
  "nbformat": 4,
  "nbformat_minor": 0,
  "metadata": {
    "colab": {
      "provenance": []
    },
    "kernelspec": {
      "name": "python3",
      "display_name": "Python 3"
    },
    "language_info": {
      "name": "python"
    }
  },
  "cells": [
    {
      "cell_type": "code",
      "source": [
        "#pip install statsforecast==0.6.0"
      ],
      "metadata": {
        "id": "N2bBumrIU9Sy"
      },
      "execution_count": 55,
      "outputs": []
    },
    {
      "cell_type": "code",
      "execution_count": 56,
      "metadata": {
        "id": "d2QFb6olCali"
      },
      "outputs": [],
      "source": [
        "# import pytorch\n",
        "import torch\n",
        "import numpy as np"
      ]
    },
    {
      "cell_type": "code",
      "source": [
        " # import pandas for dataFrame\n",
        " # import darts for timeSeries\n",
        "import pandas as pd\n",
        "from darts import TimeSeries"
      ],
      "metadata": {
        "id": "IYc1F2NJWe2f"
      },
      "execution_count": 59,
      "outputs": []
    },
    {
      "cell_type": "code",
      "source": [
        "# declare x and y\n",
        "# create an Tensor\n",
        "x = torch.tensor([[1.0,2.0,3.0,4.0,5.0,6.0]])   # tensor are similar to array and matrices\n",
        "y = torch.tensor([[7.0,8.0,9.0,10.0,11.0,12.0]])"
      ],
      "metadata": {
        "id": "S6m87yNTCu_8"
      },
      "execution_count": 18,
      "outputs": []
    },
    {
      "cell_type": "code",
      "source": [
        "# display the array\n",
        "print(x)\n",
        "print(y)"
      ],
      "metadata": {
        "colab": {
          "base_uri": "https://localhost:8080/"
        },
        "id": "l98tDC0jDBYT",
        "outputId": "b3e5945a-628a-4240-813d-9a792a90cd33"
      },
      "execution_count": 19,
      "outputs": [
        {
          "output_type": "stream",
          "name": "stdout",
          "text": [
            "tensor([[1., 2., 3., 4., 5., 6.]])\n",
            "tensor([[ 7.,  8.,  9., 10., 11., 12.]])\n"
          ]
        }
      ]
    },
    {
      "cell_type": "code",
      "source": [
        "# declare a few more arrays\n",
        "z = torch.tensor([[5.0,10.0,15.0]])\n",
        "a = torch.tensor([[1.0,2.0,3.0]])"
      ],
      "metadata": {
        "id": "ohRBUsz0Dnsu"
      },
      "execution_count": 20,
      "outputs": []
    },
    {
      "cell_type": "code",
      "source": [
        "\n",
        "print(x + y)"
      ],
      "metadata": {
        "colab": {
          "base_uri": "https://localhost:8080/"
        },
        "id": "8U50tKymFFrW",
        "outputId": "9b3d259d-f9f9-4cb2-85d6-9ee1ffd95e64"
      },
      "execution_count": 21,
      "outputs": [
        {
          "output_type": "stream",
          "name": "stdout",
          "text": [
            "tensor([[ 8., 10., 12., 14., 16., 18.]])\n"
          ]
        }
      ]
    },
    {
      "cell_type": "code",
      "source": [
        "print(x - y)"
      ],
      "metadata": {
        "colab": {
          "base_uri": "https://localhost:8080/"
        },
        "id": "Wag-HGi7FYA9",
        "outputId": "c200076d-bb96-4ee9-e23e-10d1afe9042d"
      },
      "execution_count": 22,
      "outputs": [
        {
          "output_type": "stream",
          "name": "stdout",
          "text": [
            "tensor([[-6., -6., -6., -6., -6., -6.]])\n"
          ]
        }
      ]
    },
    {
      "cell_type": "code",
      "source": [
        "print(x)\n",
        "print(z + a )\n",
        "# Note : arrays have to match up\n",
        "# print(z + x) willn't run because array are different"
      ],
      "metadata": {
        "id": "CF5xSpBEFdTi",
        "colab": {
          "base_uri": "https://localhost:8080/"
        },
        "outputId": "3560474c-c5b7-4746-ad9d-39bd3086672a"
      },
      "execution_count": 23,
      "outputs": [
        {
          "output_type": "stream",
          "name": "stdout",
          "text": [
            "tensor([[1., 2., 3., 4., 5., 6.]])\n",
            "tensor([[ 6., 12., 18.]])\n"
          ]
        }
      ]
    },
    {
      "cell_type": "code",
      "source": [
        "print(x * y)"
      ],
      "metadata": {
        "colab": {
          "base_uri": "https://localhost:8080/"
        },
        "id": "8UiAnPGIFgR6",
        "outputId": "9b3907ad-c761-4693-bf51-d3a664df1802"
      },
      "execution_count": 24,
      "outputs": [
        {
          "output_type": "stream",
          "name": "stdout",
          "text": [
            "tensor([[ 7., 16., 27., 40., 55., 72.]])\n"
          ]
        }
      ]
    },
    {
      "cell_type": "code",
      "source": [],
      "metadata": {
        "id": "BzppCmNRFuR1"
      },
      "execution_count": 24,
      "outputs": []
    },
    {
      "cell_type": "code",
      "source": [
        "# Use GPU or CPU power\n",
        "device = torch.device('cuda' if torch.cuda.is_available() else 'cpu')\n",
        "x = x.to(device)\n",
        "y = y.to(device)\n",
        "print(x.device)\n",
        "print(y.device)"
      ],
      "metadata": {
        "colab": {
          "base_uri": "https://localhost:8080/"
        },
        "id": "oKj2e20VFxLf",
        "outputId": "19cd94d4-be58-4447-c121-1ff1999d23da"
      },
      "execution_count": 25,
      "outputs": [
        {
          "output_type": "stream",
          "name": "stdout",
          "text": [
            "cpu\n",
            "cpu\n"
          ]
        }
      ]
    },
    {
      "cell_type": "markdown",
      "source": [
        "### Creating a Simple Linear Model"
      ],
      "metadata": {
        "id": "mQ632C_9Gk5P"
      }
    },
    {
      "cell_type": "code",
      "source": [
        "import torch.nn as nn\n",
        "\n",
        "# I just gave it the name simple model\n",
        "# the feature is the input\n",
        "simple_model = nn.Linear(in_features=1, out_features=1)\n",
        "\n",
        "\n",
        "x = torch.tensor([[2.0]])     # 2.0 is the value we are inputing\n",
        "output = simple_model(x)\n",
        "print(output)"
      ],
      "metadata": {
        "colab": {
          "base_uri": "https://localhost:8080/"
        },
        "id": "GbZIuxoZGaYT",
        "outputId": "68cd2f2a-feea-4241-b6e4-899884b14442"
      },
      "execution_count": 26,
      "outputs": [
        {
          "output_type": "stream",
          "name": "stdout",
          "text": [
            "tensor([[1.4222]], grad_fn=<AddmmBackward0>)\n"
          ]
        }
      ]
    },
    {
      "cell_type": "code",
      "source": [
        "# This is the setting the model is trying to predict\n",
        "target = torch.tensor([[4.0]])\n",
        "\n",
        " # think of this as scorekeeper predicting the Mean Square Error Loss\n",
        "loss_fn =nn.MSELoss()\n",
        "                                    # Model predicts our input (0.2)\n",
        "                                    # the target we want to achive (0.4)\n",
        "                                    # it calulates\n",
        "\n",
        " # See Explaination\n",
        "optimizer = torch.optim.SGD(simple_model.parameters(),lr=0.01)\n",
        "loss = loss_fn(output,target)\n",
        "print('loss: ',loss.item())"
      ],
      "metadata": {
        "colab": {
          "base_uri": "https://localhost:8080/"
        },
        "id": "zGqbOJCrHdtC",
        "outputId": "2dae031e-34e7-4903-b3ef-b169d96ad79d"
      },
      "execution_count": 27,
      "outputs": [
        {
          "output_type": "stream",
          "name": "stdout",
          "text": [
            "loss:  6.645020008087158\n"
          ]
        }
      ]
    },
    {
      "cell_type": "markdown",
      "source": [
        "Explaination :  \n",
        "Think of the model as a soccor player let's name him bob and the Optimizer as Coach Smith. Bob the model has muscles( weights and biases( but doesn't know how them. The loss function represent the distance from the player to the goal post. Coach Smith ( the Optimizer ) watches every kick the bob ( the model) does, coach smith is there to tell bob what has to change in order for him to his goal of scoring a point.\n",
        "\n",
        "\n",
        "For example Let's say bob kicks the ball and it goes a few feet ( loss function is too high ), coach smith tells bob \"That's too short, you need to kick the ball harder and use more power on your foot\" . Bob tries again and lets say he kicks the ball halfway ( loss function is close but the goal is still far away), coach smith says \" that's better but this time, adjust how you aim the ball when your kicking it\". Now bob tries again and let's say he scores a goal ( loss function is small) The coach tells bob \"At a boy son, that's how you do it\".\n",
        "\n",
        "Every time bob pracices ( aka epoch) he listens to feedback (the loss function ) coach updates how bob kicks (via optimizer) and bob gets better."
      ],
      "metadata": {
        "id": "byf438pcDsDq"
      }
    },
    {
      "cell_type": "code",
      "source": [
        " for epoch in range(10):\n",
        "  output = simple_model(x)\n",
        "  loss = loss_fn(output,target)\n",
        "\n",
        "  optimizer.zero_grad()\n",
        "  loss.backward()\n",
        "  optimizer.step()\n",
        "  print(f\"Epoch {epoch+1}, Loss: {loss.item():.4f}\")"
      ],
      "metadata": {
        "colab": {
          "base_uri": "https://localhost:8080/"
        },
        "id": "eAXBta0kIV67",
        "outputId": "e3c2287c-68a7-4aa2-fb1e-c52a96d81e39"
      },
      "execution_count": 28,
      "outputs": [
        {
          "output_type": "stream",
          "name": "stdout",
          "text": [
            "Epoch 1, Loss: 6.6450\n",
            "Epoch 2, Loss: 5.3825\n",
            "Epoch 3, Loss: 4.3598\n",
            "Epoch 4, Loss: 3.5314\n",
            "Epoch 5, Loss: 2.8605\n",
            "Epoch 6, Loss: 2.3170\n",
            "Epoch 7, Loss: 1.8767\n",
            "Epoch 8, Loss: 1.5202\n",
            "Epoch 9, Loss: 1.2313\n",
            "Epoch 10, Loss: 0.9974\n"
          ]
        }
      ]
    },
    {
      "cell_type": "markdown",
      "source": [
        "The Epoch represent one complete pass throught the entire training dataset. As you can see when bob started kicking the ball the first time he was way off at a 11.33 ( this represent how far he was from the goal post) once he gets down to attempt #10, he was way closer than attempt #1"
      ],
      "metadata": {
        "id": "piwS48gTJceE"
      }
    },
    {
      "cell_type": "code",
      "source": [
        "import matplotlib.pyplot as plt\n",
        "\n",
        "losses = []\n",
        "\n",
        "for epoch in range(50):\n",
        "  output = simple_model(x)\n",
        "  loss = loss_fn(output, target)\n",
        "\n",
        "  optimizer.zero_grad()\n",
        "  loss.backward()\n",
        "  optimizer.step()\n",
        "\n",
        "  losses.append(loss.item())\n",
        "\n",
        "plt.plot(losses)\n",
        "plt.xlabel('Epoch')\n",
        "plt.ylabel('Loss')\n",
        "plt.title('Training Loss Over Time')\n",
        "plt.show()"
      ],
      "metadata": {
        "colab": {
          "base_uri": "https://localhost:8080/",
          "height": 472
        },
        "id": "RlRuwqYALX-T",
        "outputId": "01305e49-64e2-4e91-e600-e6fa27bb9dc5"
      },
      "execution_count": 29,
      "outputs": [
        {
          "output_type": "display_data",
          "data": {
            "text/plain": [
              "<Figure size 640x480 with 1 Axes>"
            ],
            "image/png": "[encoded data removed]"
          },
          "metadata": {}
        }
      ]
    },
    {
      "cell_type": "code",
      "source": [],
      "metadata": {
        "id": "jUmVfyg9MnEj"
      },
      "execution_count": 29,
      "outputs": []
    }
  ]
}